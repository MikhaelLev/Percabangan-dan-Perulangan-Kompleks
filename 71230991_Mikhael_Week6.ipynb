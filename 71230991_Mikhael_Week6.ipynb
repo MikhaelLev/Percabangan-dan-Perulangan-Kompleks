{
  "nbformat": 4,
  "nbformat_minor": 0,
  "metadata": {
    "colab": {
      "provenance": []
    },
    "kernelspec": {
      "name": "python3",
      "display_name": "Python 3"
    },
    "language_info": {
      "name": "python"
    }
  },
  "cells": [
    {
      "cell_type": "markdown",
      "source": [
        "Latihan 6.1"
      ],
      "metadata": {
        "id": "O3UP1hMWCkQW"
      }
    },
    {
      "cell_type": "code",
      "execution_count": 1,
      "metadata": {
        "colab": {
          "base_uri": "https://localhost:8080/"
        },
        "id": "845QGi3uCiwF",
        "outputId": "90e0512b-3988-4e2e-9fd2-fcb1f083283a"
      },
      "outputs": [
        {
          "output_type": "stream",
          "name": "stdout",
          "text": [
            "Masukkan sebuah bilangan untuk mencari prima terdekatnya! : 21\n",
            "Bilangan prima terdekat < 21 adalah 19 \n"
          ]
        }
      ],
      "source": [
        "n = int(input(\"Masukkan sebuah bilangan untuk mencari prima terdekatnya! : \"))\n",
        "\n",
        "def bilangan_prima(angka):\n",
        "    if angka <= 1:\n",
        "        return False\n",
        "    for i in range(2, int(angka**0.5) + 1):\n",
        "        if angka % i == 0:\n",
        "            return False\n",
        "    return True\n",
        "\n",
        "def prima_terdekat(n):\n",
        "    if n <= 2:\n",
        "        return False\n",
        "    prima = None\n",
        "    for i in range(n-1, 1, -1):\n",
        "        if bilangan_prima(i):\n",
        "            prima = i\n",
        "            break\n",
        "    return prima\n",
        "\n",
        "bilangan_prima_terdekat = prima_terdekat(n)\n",
        "\n",
        "if bilangan_prima_terdekat != False:\n",
        "    print(f\"Bilangan prima terdekat < {n} adalah {bilangan_prima_terdekat} \")\n",
        "else:\n",
        "    print(f\"Tidak ada bilangan prima terdekat yang kurang dari {n}\")"
      ]
    },
    {
      "cell_type": "markdown",
      "source": [
        "Latihan 6.2"
      ],
      "metadata": {
        "id": "pxuU0Z0aC4lW"
      }
    },
    {
      "cell_type": "code",
      "source": [
        "n = int(input(\"n : \"))\n",
        "\n",
        "def perkalian(a):\n",
        "    if a == 0 or a == 1:\n",
        "        return 1\n",
        "    else:\n",
        "        return a * perkalian(a-1)\n",
        "\n",
        "def baris(n):\n",
        "    for i in range(n, 0, -1):\n",
        "        print(perkalian(i), end= \" \")\n",
        "        for j in range(i, 0, -1):\n",
        "            print(j, end= \" \")\n",
        "        print()\n",
        "\n",
        "baris(n)"
      ],
      "metadata": {
        "colab": {
          "base_uri": "https://localhost:8080/"
        },
        "id": "2bkRL4krC6vl",
        "outputId": "b18530b4-55b8-44e2-ca47-1b415c76dd9a"
      },
      "execution_count": 2,
      "outputs": [
        {
          "output_type": "stream",
          "name": "stdout",
          "text": [
            "n : 6\n",
            "720 6 5 4 3 2 1 \n",
            "120 5 4 3 2 1 \n",
            "24 4 3 2 1 \n",
            "6 3 2 1 \n",
            "2 2 1 \n",
            "1 1 \n"
          ]
        }
      ]
    },
    {
      "cell_type": "markdown",
      "source": [
        "Latihan 6.3"
      ],
      "metadata": {
        "id": "gn58GOhrDAN8"
      }
    },
    {
      "cell_type": "code",
      "source": [
        "a = int(input(\"Masukkan tinggi : \"))\n",
        "b = int(input(\"Masukkan lebar : \"))\n",
        "\n",
        "def baris(a, b):\n",
        "    start = 1\n",
        "    for i in range(a):\n",
        "        for j in range(b):\n",
        "            print(start, end=\" \")\n",
        "            start += 1\n",
        "        print()\n",
        "    return baris\n",
        "\n",
        "print(f\"\\ntinggi = {a}, lebar = {b}\")\n",
        "\n",
        "print(baris(a, b))\n",
        "\n"
      ],
      "metadata": {
        "colab": {
          "base_uri": "https://localhost:8080/"
        },
        "id": "efLNalYHDDne",
        "outputId": "4168fece-8b8b-4b7c-bce0-59eb79299924"
      },
      "execution_count": 3,
      "outputs": [
        {
          "output_type": "stream",
          "name": "stdout",
          "text": [
            "Masukkan tinggi : 5\n",
            "Masukkan lebar : 4\n",
            "\n",
            "tinggi = 5, lebar = 4\n",
            "1 2 3 4 \n",
            "5 6 7 8 \n",
            "9 10 11 12 \n",
            "13 14 15 16 \n",
            "17 18 19 20 \n",
            "<function baris at 0x7fb51fcd7910>\n"
          ]
        }
      ]
    }
  ]
}